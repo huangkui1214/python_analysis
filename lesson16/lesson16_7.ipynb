{
 "cells": [
  {
   "cell_type": "code",
   "execution_count": 28,
   "id": "bfd8b190",
   "metadata": {},
   "outputs": [
    {
     "data": {
      "text/plain": [
       "'world.csv'"
      ]
     },
     "execution_count": 28,
     "metadata": {},
     "output_type": "execute_result"
    }
   ],
   "source": [
    "import wget\n",
    "\n",
    "wget.download(\"https://raw.githubusercontent.com/roberthsu2003/__2025_04_13_python_sunday__/refs/heads/main/lesson16/world.csv\")"
   ]
  },
  {
   "cell_type": "code",
   "execution_count": 29,
   "id": "46a4a962",
   "metadata": {},
   "outputs": [
    {
     "name": "stdout",
     "output_type": "stream",
     "text": [
      "<class 'pandas.core.frame.DataFrame'>\n",
      "RangeIndex: 187885 entries, 0 to 187884\n",
      "Data columns (total 33 columns):\n",
      " #   Column          Non-Null Count   Dtype  \n",
      "---  ------          --------------   -----  \n",
      " 0   ID              187885 non-null  int64  \n",
      " 1   iso_code        187885 non-null  object \n",
      " 2   洲名              187885 non-null  object \n",
      " 3   國家              187885 non-null  object \n",
      " 4   日期              187885 non-null  object \n",
      " 5   總確診數            187885 non-null  int64  \n",
      " 6   新增確診數           187885 non-null  int64  \n",
      " 7   七天移動平均新增確診數     187885 non-null  float64\n",
      " 8   總死亡數            187885 non-null  int64  \n",
      " 9   新增死亡數           187885 non-null  int64  \n",
      " 10  七天移動平均新增死亡數     187885 non-null  float64\n",
      " 11  每百萬人確診數         187885 non-null  float64\n",
      " 12  每百萬人死亡數         187885 non-null  float64\n",
      " 13  傳染率             187885 non-null  float64\n",
      " 14  新增檢驗件數          187885 non-null  int64  \n",
      " 15  總檢驗件數           187885 non-null  int64  \n",
      " 16  每千人檢驗件數         187885 non-null  float64\n",
      " 17  七天移動平均新增檢驗件數    187885 non-null  float64\n",
      " 18  陽性率             187885 non-null  float64\n",
      " 19  每確診案例相對檢驗數量     187885 non-null  float64\n",
      " 20  疫苗總接種總劑數        187885 non-null  int64  \n",
      " 21  疫苗總接種人數         187885 non-null  int64  \n",
      " 22  疫苗新增接種劑數        187885 non-null  int64  \n",
      " 23  七天移動平均疫苗新增接種劑數  187885 non-null  float64\n",
      " 24  每百人接種疫苗劑數       187885 non-null  float64\n",
      " 25  每百人接種疫苗人數       187885 non-null  float64\n",
      " 26  疫情控管指數          187885 non-null  float64\n",
      " 27  總人口數            187885 non-null  int64  \n",
      " 28  中位數年紀           187885 non-null  float64\n",
      " 29  70歲以上人口比例       187885 non-null  float64\n",
      " 30  平均壽命            187885 non-null  float64\n",
      " 31  解除隔離數           187885 non-null  int64  \n",
      " 32  解封指數            187885 non-null  float64\n",
      "dtypes: float64(17), int64(12), object(4)\n",
      "memory usage: 47.3+ MB\n"
     ]
    }
   ],
   "source": [
    "import numpy as np\n",
    "import pandas as pd\n",
    "\n",
    "df = pd.read_csv('world.csv')\n",
    "df.info()"
   ]
  },
  {
   "cell_type": "code",
   "execution_count": 30,
   "id": "c331a262",
   "metadata": {},
   "outputs": [
    {
     "data": {
      "text/html": [
       "<div>\n",
       "<style scoped>\n",
       "    .dataframe tbody tr th:only-of-type {\n",
       "        vertical-align: middle;\n",
       "    }\n",
       "\n",
       "    .dataframe tbody tr th {\n",
       "        vertical-align: top;\n",
       "    }\n",
       "\n",
       "    .dataframe thead th {\n",
       "        text-align: right;\n",
       "    }\n",
       "</style>\n",
       "<table border=\"1\" class=\"dataframe\">\n",
       "  <thead>\n",
       "    <tr style=\"text-align: right;\">\n",
       "      <th></th>\n",
       "      <th>洲名</th>\n",
       "      <th>國家</th>\n",
       "      <th>日期</th>\n",
       "      <th>總確診數</th>\n",
       "      <th>新增確診數</th>\n",
       "      <th>總人口數</th>\n",
       "      <th>解封指數</th>\n",
       "    </tr>\n",
       "  </thead>\n",
       "  <tbody>\n",
       "    <tr>\n",
       "      <th>0</th>\n",
       "      <td>亞洲</td>\n",
       "      <td>阿富汗</td>\n",
       "      <td>2020-02-24</td>\n",
       "      <td>5</td>\n",
       "      <td>5</td>\n",
       "      <td>39835428</td>\n",
       "      <td>99999.0</td>\n",
       "    </tr>\n",
       "    <tr>\n",
       "      <th>1</th>\n",
       "      <td>亞洲</td>\n",
       "      <td>阿富汗</td>\n",
       "      <td>2020-02-25</td>\n",
       "      <td>5</td>\n",
       "      <td>0</td>\n",
       "      <td>39835428</td>\n",
       "      <td>99999.0</td>\n",
       "    </tr>\n",
       "    <tr>\n",
       "      <th>2</th>\n",
       "      <td>亞洲</td>\n",
       "      <td>阿富汗</td>\n",
       "      <td>2020-02-26</td>\n",
       "      <td>5</td>\n",
       "      <td>0</td>\n",
       "      <td>39835428</td>\n",
       "      <td>99999.0</td>\n",
       "    </tr>\n",
       "    <tr>\n",
       "      <th>3</th>\n",
       "      <td>亞洲</td>\n",
       "      <td>阿富汗</td>\n",
       "      <td>2020-02-27</td>\n",
       "      <td>5</td>\n",
       "      <td>0</td>\n",
       "      <td>39835428</td>\n",
       "      <td>99999.0</td>\n",
       "    </tr>\n",
       "    <tr>\n",
       "      <th>4</th>\n",
       "      <td>亞洲</td>\n",
       "      <td>阿富汗</td>\n",
       "      <td>2020-02-28</td>\n",
       "      <td>5</td>\n",
       "      <td>0</td>\n",
       "      <td>39835428</td>\n",
       "      <td>99999.0</td>\n",
       "    </tr>\n",
       "    <tr>\n",
       "      <th>...</th>\n",
       "      <td>...</td>\n",
       "      <td>...</td>\n",
       "      <td>...</td>\n",
       "      <td>...</td>\n",
       "      <td>...</td>\n",
       "      <td>...</td>\n",
       "      <td>...</td>\n",
       "    </tr>\n",
       "    <tr>\n",
       "      <th>187880</th>\n",
       "      <td>非洲</td>\n",
       "      <td>辛巴威</td>\n",
       "      <td>2022-07-02</td>\n",
       "      <td>255586</td>\n",
       "      <td>0</td>\n",
       "      <td>15092171</td>\n",
       "      <td>99999.0</td>\n",
       "    </tr>\n",
       "    <tr>\n",
       "      <th>187881</th>\n",
       "      <td>非洲</td>\n",
       "      <td>辛巴威</td>\n",
       "      <td>2022-07-03</td>\n",
       "      <td>255586</td>\n",
       "      <td>0</td>\n",
       "      <td>15092171</td>\n",
       "      <td>99999.0</td>\n",
       "    </tr>\n",
       "    <tr>\n",
       "      <th>187882</th>\n",
       "      <td>非洲</td>\n",
       "      <td>辛巴威</td>\n",
       "      <td>2022-07-04</td>\n",
       "      <td>255726</td>\n",
       "      <td>140</td>\n",
       "      <td>15092171</td>\n",
       "      <td>99999.0</td>\n",
       "    </tr>\n",
       "    <tr>\n",
       "      <th>187883</th>\n",
       "      <td>非洲</td>\n",
       "      <td>辛巴威</td>\n",
       "      <td>2022-07-05</td>\n",
       "      <td>255755</td>\n",
       "      <td>29</td>\n",
       "      <td>15092171</td>\n",
       "      <td>99999.0</td>\n",
       "    </tr>\n",
       "    <tr>\n",
       "      <th>187884</th>\n",
       "      <td>非洲</td>\n",
       "      <td>辛巴威</td>\n",
       "      <td>2022-07-06</td>\n",
       "      <td>255805</td>\n",
       "      <td>50</td>\n",
       "      <td>15092171</td>\n",
       "      <td>99999.0</td>\n",
       "    </tr>\n",
       "  </tbody>\n",
       "</table>\n",
       "<p>187885 rows × 7 columns</p>\n",
       "</div>"
      ],
      "text/plain": [
       "        洲名   國家          日期    總確診數  新增確診數      總人口數     解封指數\n",
       "0       亞洲  阿富汗  2020-02-24       5      5  39835428  99999.0\n",
       "1       亞洲  阿富汗  2020-02-25       5      0  39835428  99999.0\n",
       "2       亞洲  阿富汗  2020-02-26       5      0  39835428  99999.0\n",
       "3       亞洲  阿富汗  2020-02-27       5      0  39835428  99999.0\n",
       "4       亞洲  阿富汗  2020-02-28       5      0  39835428  99999.0\n",
       "...     ..  ...         ...     ...    ...       ...      ...\n",
       "187880  非洲  辛巴威  2022-07-02  255586      0  15092171  99999.0\n",
       "187881  非洲  辛巴威  2022-07-03  255586      0  15092171  99999.0\n",
       "187882  非洲  辛巴威  2022-07-04  255726    140  15092171  99999.0\n",
       "187883  非洲  辛巴威  2022-07-05  255755     29  15092171  99999.0\n",
       "187884  非洲  辛巴威  2022-07-06  255805     50  15092171  99999.0\n",
       "\n",
       "[187885 rows x 7 columns]"
      ]
     },
     "execution_count": 30,
     "metadata": {},
     "output_type": "execute_result"
    }
   ],
   "source": [
    "allDataFrame = df.reindex(columns=['洲名','國家','日期','總確診數','新增確診數','總人口數','解封指數'])\n",
    "allDataFrame"
   ]
  },
  {
   "cell_type": "code",
   "execution_count": 31,
   "id": "6069cfe7",
   "metadata": {},
   "outputs": [
    {
     "name": "stdout",
     "output_type": "stream",
     "text": [
      "<class 'pandas.core.frame.DataFrame'>\n",
      "Index: 903 entries, 163986 to 164888\n",
      "Data columns (total 7 columns):\n",
      " #   Column  Non-Null Count  Dtype  \n",
      "---  ------  --------------  -----  \n",
      " 0   洲名      903 non-null    object \n",
      " 1   國家      903 non-null    object \n",
      " 2   日期      903 non-null    object \n",
      " 3   總確診數    903 non-null    int64  \n",
      " 4   新增確診數   903 non-null    int64  \n",
      " 5   總人口數    903 non-null    int64  \n",
      " 6   解封指數    903 non-null    float64\n",
      "dtypes: float64(1), int64(3), object(3)\n",
      "memory usage: 56.4+ KB\n"
     ]
    }
   ],
   "source": [
    "country_mask = allDataFrame['國家'] == '台灣'\n",
    "taiwan_df = allDataFrame[country_mask]\n",
    "taiwan_df.info()"
   ]
  },
  {
   "cell_type": "markdown",
   "id": "024e819e",
   "metadata": {},
   "source": [
    "搜尋的方法query(字串)"
   ]
  },
  {
   "cell_type": "code",
   "execution_count": 34,
   "id": "6476b55e",
   "metadata": {},
   "outputs": [],
   "source": [
    "taiwan_df = allDataFrame.query('國家==\"台灣\"')\n",
    "japan_df = allDataFrame.query('國家==\"日本\"')\n",
    "\n",
    "taiwan1_df = taiwan_df.query('日期>=\"2020-01-16\" and 日期<=\"2022-07-06\"')\n",
    "japan1_df = japan_df.query('日期>=\"2020-01-16\" and 日期<=\"2022-07-06\"')"
   ]
  },
  {
   "cell_type": "code",
   "execution_count": 35,
   "id": "d3cd184c",
   "metadata": {},
   "outputs": [
    {
     "ename": "RuntimeError",
     "evalue": "Can not load face (invalid stream operation; error code 0x55)",
     "output_type": "error",
     "traceback": [
      "\u001b[0;31m---------------------------------------------------------------------------\u001b[0m",
      "\u001b[0;31mRuntimeError\u001b[0m                              Traceback (most recent call last)",
      "Cell \u001b[0;32mIn[35], line 5\u001b[0m\n\u001b[1;32m      2\u001b[0m \u001b[38;5;28;01mimport\u001b[39;00m\u001b[38;5;250m \u001b[39m\u001b[38;5;21;01mmatplotlib\u001b[39;00m\u001b[38;5;250m \u001b[39m\u001b[38;5;28;01mas\u001b[39;00m\u001b[38;5;250m \u001b[39m\u001b[38;5;21;01mmpl\u001b[39;00m\n\u001b[1;32m      3\u001b[0m \u001b[38;5;28;01mfrom\u001b[39;00m\u001b[38;5;250m \u001b[39m\u001b[38;5;21;01mmatplotlib\u001b[39;00m\u001b[38;5;21;01m.\u001b[39;00m\u001b[38;5;21;01mfont_manager\u001b[39;00m\u001b[38;5;250m \u001b[39m\u001b[38;5;28;01mimport\u001b[39;00m fontManager\n\u001b[0;32m----> 5\u001b[0m \u001b[43mfontManager\u001b[49m\u001b[38;5;241;43m.\u001b[39;49m\u001b[43maddfont\u001b[49m\u001b[43m(\u001b[49m\u001b[38;5;124;43m\"\u001b[39;49m\u001b[38;5;124;43mChineseFont.ttf\u001b[39;49m\u001b[38;5;124;43m\"\u001b[39;49m\u001b[43m)\u001b[49m\n\u001b[1;32m      6\u001b[0m mpl\u001b[38;5;241m.\u001b[39mrc(\u001b[38;5;124m'\u001b[39m\u001b[38;5;124mfont\u001b[39m\u001b[38;5;124m'\u001b[39m,family\u001b[38;5;241m=\u001b[39m\u001b[38;5;124m'\u001b[39m\u001b[38;5;124mChineseFont\u001b[39m\u001b[38;5;124m'\u001b[39m)\n\u001b[1;32m      7\u001b[0m plt\u001b[38;5;241m.\u001b[39mfigure(figsize\u001b[38;5;241m=\u001b[39m(\u001b[38;5;241m12\u001b[39m,\u001b[38;5;241m8\u001b[39m))\n",
      "File \u001b[0;32m/opt/conda/envs/myenv1/lib/python3.10/site-packages/matplotlib/font_manager.py:1136\u001b[0m, in \u001b[0;36mFontManager.addfont\u001b[0;34m(self, path)\u001b[0m\n\u001b[1;32m   1134\u001b[0m     \u001b[38;5;28mself\u001b[39m\u001b[38;5;241m.\u001b[39mafmlist\u001b[38;5;241m.\u001b[39mappend(prop)\n\u001b[1;32m   1135\u001b[0m \u001b[38;5;28;01melse\u001b[39;00m:\n\u001b[0;32m-> 1136\u001b[0m     font \u001b[38;5;241m=\u001b[39m \u001b[43mft2font\u001b[49m\u001b[38;5;241;43m.\u001b[39;49m\u001b[43mFT2Font\u001b[49m\u001b[43m(\u001b[49m\u001b[43mpath\u001b[49m\u001b[43m)\u001b[49m\n\u001b[1;32m   1137\u001b[0m     prop \u001b[38;5;241m=\u001b[39m ttfFontProperty(font)\n\u001b[1;32m   1138\u001b[0m     \u001b[38;5;28mself\u001b[39m\u001b[38;5;241m.\u001b[39mttflist\u001b[38;5;241m.\u001b[39mappend(prop)\n",
      "\u001b[0;31mRuntimeError\u001b[0m: Can not load face (invalid stream operation; error code 0x55)"
     ]
    }
   ],
   "source": [
    "import matplotlib.pyplot as plt\n",
    "import matplotlib as mpl\n",
    "from matplotlib.font_manager import fontManager\n",
    "\n",
    "fontManager.addfont(\"ChineseFont.ttf\")\n",
    "mpl.rc('font',family='ChineseFont')\n",
    "plt.figure(figsize=(12,8))\n",
    "plt.plot(pd.to_datetime(taiwan1_df['日期']),taiwan1_df['總確診數'])\n",
    "plt.plot(pd.to_datetime(japan1_df['日期']),japan1_df['總確診數'])\n",
    "plt.gca().ticklabel_format(style='plain', axis='y')\n",
    "plt.xlabel('日期')\n",
    "plt.ylabel('總確診數')\n",
    "plt.show()"
   ]
  },
  {
   "cell_type": "code",
   "execution_count": 36,
   "id": "1a93b81e",
   "metadata": {},
   "outputs": [
    {
     "ename": "RuntimeError",
     "evalue": "Can not load face (invalid stream operation; error code 0x55)",
     "output_type": "error",
     "traceback": [
      "\u001b[0;31m---------------------------------------------------------------------------\u001b[0m",
      "\u001b[0;31mRuntimeError\u001b[0m                              Traceback (most recent call last)",
      "Cell \u001b[0;32mIn[36], line 5\u001b[0m\n\u001b[1;32m      2\u001b[0m \u001b[38;5;28;01mimport\u001b[39;00m\u001b[38;5;250m \u001b[39m\u001b[38;5;21;01mmatplotlib\u001b[39;00m\u001b[38;5;250m \u001b[39m\u001b[38;5;28;01mas\u001b[39;00m\u001b[38;5;250m \u001b[39m\u001b[38;5;21;01mmpl\u001b[39;00m\n\u001b[1;32m      3\u001b[0m \u001b[38;5;28;01mfrom\u001b[39;00m\u001b[38;5;250m \u001b[39m\u001b[38;5;21;01mmatplotlib\u001b[39;00m\u001b[38;5;21;01m.\u001b[39;00m\u001b[38;5;21;01mfont_manager\u001b[39;00m\u001b[38;5;250m \u001b[39m\u001b[38;5;28;01mimport\u001b[39;00m fontManager\n\u001b[0;32m----> 5\u001b[0m \u001b[43mfontManager\u001b[49m\u001b[38;5;241;43m.\u001b[39;49m\u001b[43maddfont\u001b[49m\u001b[43m(\u001b[49m\u001b[38;5;124;43m\"\u001b[39;49m\u001b[38;5;124;43mChineseFont.ttf\u001b[39;49m\u001b[38;5;124;43m\"\u001b[39;49m\u001b[43m)\u001b[49m\n\u001b[1;32m      6\u001b[0m mpl\u001b[38;5;241m.\u001b[39mrc(\u001b[38;5;124m'\u001b[39m\u001b[38;5;124mfont\u001b[39m\u001b[38;5;124m'\u001b[39m,family\u001b[38;5;241m=\u001b[39m\u001b[38;5;124m'\u001b[39m\u001b[38;5;124mChineseFont\u001b[39m\u001b[38;5;124m'\u001b[39m)\n\u001b[1;32m      7\u001b[0m plt\u001b[38;5;241m.\u001b[39mfigure(figsize\u001b[38;5;241m=\u001b[39m(\u001b[38;5;241m12\u001b[39m,\u001b[38;5;241m8\u001b[39m))\n",
      "File \u001b[0;32m/opt/conda/envs/myenv1/lib/python3.10/site-packages/matplotlib/font_manager.py:1136\u001b[0m, in \u001b[0;36mFontManager.addfont\u001b[0;34m(self, path)\u001b[0m\n\u001b[1;32m   1134\u001b[0m     \u001b[38;5;28mself\u001b[39m\u001b[38;5;241m.\u001b[39mafmlist\u001b[38;5;241m.\u001b[39mappend(prop)\n\u001b[1;32m   1135\u001b[0m \u001b[38;5;28;01melse\u001b[39;00m:\n\u001b[0;32m-> 1136\u001b[0m     font \u001b[38;5;241m=\u001b[39m \u001b[43mft2font\u001b[49m\u001b[38;5;241;43m.\u001b[39;49m\u001b[43mFT2Font\u001b[49m\u001b[43m(\u001b[49m\u001b[43mpath\u001b[49m\u001b[43m)\u001b[49m\n\u001b[1;32m   1137\u001b[0m     prop \u001b[38;5;241m=\u001b[39m ttfFontProperty(font)\n\u001b[1;32m   1138\u001b[0m     \u001b[38;5;28mself\u001b[39m\u001b[38;5;241m.\u001b[39mttflist\u001b[38;5;241m.\u001b[39mappend(prop)\n",
      "\u001b[0;31mRuntimeError\u001b[0m: Can not load face (invalid stream operation; error code 0x55)"
     ]
    }
   ],
   "source": [
    "import matplotlib.pyplot as plt\n",
    "import matplotlib as mpl\n",
    "from matplotlib.font_manager import fontManager\n",
    "\n",
    "fontManager.addfont(\"ChineseFont.ttf\")\n",
    "mpl.rc('font',family='ChineseFont')\n",
    "plt.figure(figsize=(12,8))\n",
    "plt.plot(pd.to_datetime(taiwan1_df['日期']),taiwan1_df['總死亡數'])\n",
    "plt.plot(pd.to_datetime(japan1_df['日期']),japan1_df['總死亡數'])\n",
    "plt.gca().ticklabel_format(style='plain', axis='y')\n",
    "plt.xlabel('日期')\n",
    "plt.ylabel('總死亡數')\n",
    "plt.show()"
   ]
  }
 ],
 "metadata": {
  "kernelspec": {
   "display_name": "myenv1",
   "language": "python",
   "name": "python3"
  },
  "language_info": {
   "codemirror_mode": {
    "name": "ipython",
    "version": 3
   },
   "file_extension": ".py",
   "mimetype": "text/x-python",
   "name": "python",
   "nbconvert_exporter": "python",
   "pygments_lexer": "ipython3",
   "version": "3.10.13"
  }
 },
 "nbformat": 4,
 "nbformat_minor": 5
}
