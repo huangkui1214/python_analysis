{
 "cells": [
  {
   "cell_type": "markdown",
   "id": "2c791ac1",
   "metadata": {},
   "source": [
    "### 不知道執行次數的迴圈:while ###"
   ]
  },
  {
   "cell_type": "code",
   "execution_count": 1,
   "id": "20991a15",
   "metadata": {},
   "outputs": [
    {
     "name": "stdout",
     "output_type": "stream",
     "text": [
      "恭喜!已經存夠了,存了2月,共存了54570元\n"
     ]
    }
   ],
   "source": [
    "#小明想要存錢買一輛機車,機車每輛30000元，他將每月存的錢輸入，當存款足夠買機車時，就顯示提示訊息告知。\n",
    "#你不知道要存幾個月\n",
    "#必需找到被比較的變數\n",
    "\n",
    "deposit = 0\n",
    "month = 0\n",
    "while(deposit < 30000):\n",
    "    month += 1\n",
    "    input_money = int(input(f\"請輸入第{month}月份的存款:\"))\n",
    "    deposit += input_money\n",
    "\n",
    "print(f\"恭喜!已經存夠了,存了{month}月,共存了{deposit}元\")\n"
   ]
  },
  {
   "cell_type": "code",
   "execution_count": 5,
   "id": "f4787e04",
   "metadata": {},
   "outputs": [
    {
     "name": "stdout",
     "output_type": "stream",
     "text": [
      "恭喜!已經存夠了,存了6月,共存了81488元\n"
     ]
    }
   ],
   "source": [
    "#小明想要存錢買一輛機車,機車每輛30000元，他將每月存的錢輸入，當存款足夠買機車時，就顯示提示訊息告知。\n",
    "#你不知道要存幾個月\n",
    "#必需找到被比較的變數\n",
    "\n",
    "deposit = 0\n",
    "month = 0\n",
    "while(True):\n",
    "    month += 1\n",
    "    input_money = int(input(f\"請輸入第{month}月份的存款:\"))\n",
    "    deposit += input_money\n",
    "    if(deposit>=30000):\n",
    "        break\n",
    "  \n",
    "\n",
    "print(f\"恭喜!已經存夠了,存了{month}月,共存了{deposit}元\")\n"
   ]
  },
  {
   "cell_type": "markdown",
   "id": "203f0e1e",
   "metadata": {},
   "source": [
    " - 奇數輸出平方\n",
    " - 偶數不做任何動作\n",
    " - 'q'要離開"
   ]
  },
  {
   "cell_type": "code",
   "execution_count": 7,
   "id": "9d87df4e",
   "metadata": {},
   "outputs": [
    {
     "name": "stdout",
     "output_type": "stream",
     "text": [
      "5的平方是25\n",
      "5的平方是25\n",
      "應用程式結束\n"
     ]
    }
   ],
   "source": [
    "while(True):\n",
    "    value = input('請輸入整數,輸入[q]離開:')\n",
    "    if value == 'q':\n",
    "        break\n",
    "\n",
    "    try:\n",
    "        value = int(value)\n",
    "    except:\n",
    "        print(\"輸入錯誤,請重新輸入\")\n",
    "        continue\n",
    "    \n",
    "    if (value % 2 == 1):\n",
    "        print(f\"{value}的平方是{value**2}\")\n",
    "    #else:\n",
    "    #    continue\n",
    "\n",
    "print(\"應用程式結束\")"
   ]
  }
 ],
 "metadata": {
  "kernelspec": {
   "display_name": "base",
   "language": "python",
   "name": "python3"
  },
  "language_info": {
   "codemirror_mode": {
    "name": "ipython",
    "version": 3
   },
   "file_extension": ".py",
   "mimetype": "text/x-python",
   "name": "python",
   "nbconvert_exporter": "python",
   "pygments_lexer": "ipython3",
   "version": "3.12.7"
  }
 },
 "nbformat": 4,
 "nbformat_minor": 5
}
