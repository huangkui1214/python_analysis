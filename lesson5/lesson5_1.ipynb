{
 "cells": [
  {
   "cell_type": "markdown",
   "id": "7aceb0ed",
   "metadata": {},
   "source": [
    "### 巢狀判斷\n",
    " - 貓 \n",
    " - 熊\n",
    " - 小蜥蜴\n",
    " - 人類"
   ]
  },
  {
   "cell_type": "code",
   "execution_count": 1,
   "id": "1f61567d",
   "metadata": {},
   "outputs": [
    {
     "name": "stdout",
     "output_type": "stream",
     "text": [
      "熊\n"
     ]
    }
   ],
   "source": [
    "furry:bool = True\n",
    "small:bool = False\n",
    "\n",
    "if furry:\n",
    "    if small:\n",
    "        print(\"貓\")\n",
    "    else:\n",
    "        print(\"熊\")\n",
    "else:\n",
    "    if small:\n",
    "        print(\"小蜥蜴\")\n",
    "    else:\n",
    "        print(\"人類\")\n"
   ]
  }
 ],
 "metadata": {
  "kernelspec": {
   "display_name": "base",
   "language": "python",
   "name": "python3"
  },
  "language_info": {
   "codemirror_mode": {
    "name": "ipython",
    "version": 3
   },
   "file_extension": ".py",
   "mimetype": "text/x-python",
   "name": "python",
   "nbconvert_exporter": "python",
   "pygments_lexer": "ipython3",
   "version": "3.12.7"
  }
 },
 "nbformat": 4,
 "nbformat_minor": 5
}
