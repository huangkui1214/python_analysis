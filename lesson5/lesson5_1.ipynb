{
 "cells": [
  {
   "cell_type": "markdown",
   "id": "7aceb0ed",
   "metadata": {},
   "source": [
    "### 巢狀判斷\n",
    " - 貓 \n",
    " - 熊\n",
    " - 小蜥蜴\n",
    " - 人類"
   ]
  },
  {
   "cell_type": "code",
   "execution_count": 1,
   "id": "1f61567d",
   "metadata": {},
   "outputs": [
    {
     "name": "stdout",
     "output_type": "stream",
     "text": [
      "熊\n"
     ]
    }
   ],
   "source": [
    "furry:bool = True\n",
    "small:bool = False\n",
    "\n",
    "if furry:\n",
    "    if small:\n",
    "        print(\"貓\")\n",
    "    else:\n",
    "        print(\"熊\")\n",
    "else:\n",
    "    if small:\n",
    "        print(\"小蜥蜴\")\n",
    "    else:\n",
    "        print(\"人類\")\n"
   ]
  },
  {
   "cell_type": "code",
   "execution_count": null,
   "id": "535ba593",
   "metadata": {},
   "outputs": [],
   "source": [
    "score:int = int(input(\"請輸入學生分數:\"))\n",
    "if score >= 80:\n",
    "    grade:str = '優'\n",
    "else:\n",
    "    #小於80\n",
    "    if score >= 60:\n",
    "        #小於80同時大於等於60\n",
    "        grade:str = '及格'\n",
    "    else:\n",
    "        grade:str = '不及格'\n",
    "\n",
    "print(f\"學生等級:{grade}\")"
   ]
  },
  {
   "cell_type": "code",
   "execution_count": 5,
   "id": "6e52348d",
   "metadata": {},
   "outputs": [
    {
     "name": "stdout",
     "output_type": "stream",
     "text": [
      "學生等級:優\n"
     ]
    }
   ],
   "source": [
    "score : int = int(input(\"請輸入學生分數:\"))\n",
    "if score >= 80:\n",
    "    grade : str = '優'\n",
    "elif score > 60:\n",
    "    grade:str = '及格'\n",
    "else:\n",
    "     grade:str = '不及格'\n",
    "\n",
    "print(f\"學生等級:{grade}\")\n"
   ]
  },
  {
   "cell_type": "markdown",
   "id": "dab76ccc",
   "metadata": {},
   "source": [
    " - 90(含)~100分為「優」\n",
    " - 80(含)~89分為「甲」\n",
    " - 70(含)~79分為「乙」\n",
    " - 60(含)~69分為「丙」\n",
    " - 0(含)~59分為「丁」"
   ]
  },
  {
   "cell_type": "code",
   "execution_count": 6,
   "id": "27e76ae8",
   "metadata": {},
   "outputs": [
    {
     "name": "stdout",
     "output_type": "stream",
     "text": [
      "學生等級:乙\n"
     ]
    }
   ],
   "source": [
    "score:int = int(input(\"請輸入學生分數:\"))\n",
    "if score >= 90:\n",
    "    grade:str = '優'\n",
    "elif score >= 80:        \n",
    "    grade:str = '甲'\n",
    "elif score >= 70:\n",
    "    grade:str = '乙'\n",
    "elif score >= 60:\n",
    "    grade:str = '丙'\n",
    "else:\n",
    "    grade:str = '丁'\n",
    "print(f\"學生等級:{grade}\")"
   ]
  },
  {
   "cell_type": "code",
   "execution_count": null,
   "id": "388e697b",
   "metadata": {},
   "outputs": [],
   "source": [
    "money:int = int(input(\"請輸入購買金額:\"))\n",
    "if money < 10000:\n",
    "    pay_money:int = money \n",
    "\n",
    "print(f\"實付金額是:pay_money\")"
   ]
  },
  {
   "cell_type": "code",
   "execution_count": 7,
   "id": "115672ae",
   "metadata": {},
   "outputs": [
    {
     "name": "stdout",
     "output_type": "stream",
     "text": [
      "實付金額是: 56666.1 元\n"
     ]
    }
   ],
   "source": [
    "money = int(input(\"請輸入購買金額:\"))\n",
    "\n",
    "if money >= 100000:\n",
    "    pay_money = money * 0.8  # 打8折\n",
    "elif money >= 50000:\n",
    "    pay_money = money * 0.85  # 打85折\n",
    "elif money >= 30000:\n",
    "    pay_money = money * 0.9   # 打9折\n",
    "elif money >= 10000:\n",
    "    pay_money = money * 0.95  # 打95折\n",
    "else:\n",
    "    pay_money = money  # 小於10000元不打折\n",
    "\n",
    "print(f\"實付金額是: {pay_money:.1f} 元\")"
   ]
  },
  {
   "cell_type": "markdown",
   "id": "41a2e3c7",
   "metadata": {},
   "source": [
    "## 巢狀判斷"
   ]
  },
  {
   "cell_type": "code",
   "execution_count": 8,
   "id": "85500d8d",
   "metadata": {},
   "outputs": [
    {
     "name": "stdout",
     "output_type": "stream",
     "text": [
      "獎金:0\n"
     ]
    }
   ],
   "source": [
    "# 國文100同時數學100,獎金1000\n",
    "# 只有一科100分,獎金500\n",
    "chinese = int(input(\"請輸入國文分數\"))\n",
    "math = int(input(\"請輸入數學分數\"))\n",
    "#巢狀判斷\n",
    "bonus = 0\n",
    "if chinese == 100:\n",
    "    if math == 100:\n",
    "        bonus = 1000\n",
    "    else:\n",
    "        bonus = 500\n",
    "elif math == 100:\n",
    "    bonus = 500\n",
    "\n",
    "print(f\"獎金:{bonus}\")"
   ]
  }
 ],
 "metadata": {
  "kernelspec": {
   "display_name": "base",
   "language": "python",
   "name": "python3"
  },
  "language_info": {
   "codemirror_mode": {
    "name": "ipython",
    "version": 3
   },
   "file_extension": ".py",
   "mimetype": "text/x-python",
   "name": "python",
   "nbconvert_exporter": "python",
   "pygments_lexer": "ipython3",
   "version": "3.12.7"
  }
 },
 "nbformat": 4,
 "nbformat_minor": 5
}
