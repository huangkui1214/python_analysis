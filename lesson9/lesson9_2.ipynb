{
 "cells": [
  {
   "cell_type": "code",
   "execution_count": 11,
   "id": "5f071a4e",
   "metadata": {},
   "outputs": [],
   "source": [
    "from dataclasses import dataclass\n",
    "\n",
    "@dataclass\n",
    "class Student:\n",
    "    name:str\n",
    "    chinese:int\n",
    "    english:int\n",
    "    math:int\n",
    "\n",
    "    @property\n",
    "    def sum(self):\n",
    "        return self.chinese + self.english + self.math"
   ]
  },
  {
   "cell_type": "code",
   "execution_count": 12,
   "id": "e28d3ccd",
   "metadata": {},
   "outputs": [],
   "source": [
    "stu1:Student = Student(name=\"kui\",\n",
    "                       chinese=98,\n",
    "                       english=75,\n",
    "                       math=69)\n",
    "\n",
    "stu2:Student = Student(name=\"jenny\",\n",
    "                       chinese=87,\n",
    "                       english=92,\n",
    "                       math=75)"
   ]
  },
  {
   "cell_type": "code",
   "execution_count": 13,
   "id": "2a87ed5a",
   "metadata": {},
   "outputs": [
    {
     "name": "stdout",
     "output_type": "stream",
     "text": [
      "('kui', 100, 75, 69)\n",
      "244\n"
     ]
    }
   ],
   "source": [
    "stu1.chinese = 100\n",
    "#stu1.sum = 300 一般的property只可以讀,不可以寫入(readonly)\n",
    "print((stu1.name, stu1.chinese, stu1.english, stu1.math)) \n",
    "print(stu1.sum)"
   ]
  },
  {
   "cell_type": "code",
   "execution_count": 14,
   "id": "96088f47",
   "metadata": {},
   "outputs": [
    {
     "name": "stdout",
     "output_type": "stream",
     "text": [
      "('jenny', 87, 92, 75)\n",
      "254\n"
     ]
    }
   ],
   "source": [
    "print((stu2.name, stu2.chinese, stu2.english, stu2.math))\n",
    "print(stu2.sum)"
   ]
  }
 ],
 "metadata": {
  "kernelspec": {
   "display_name": "base",
   "language": "python",
   "name": "python3"
  },
  "language_info": {
   "codemirror_mode": {
    "name": "ipython",
    "version": 3
   },
   "file_extension": ".py",
   "mimetype": "text/x-python",
   "name": "python",
   "nbconvert_exporter": "python",
   "pygments_lexer": "ipython3",
   "version": "3.12.7"
  }
 },
 "nbformat": 4,
 "nbformat_minor": 5
}
