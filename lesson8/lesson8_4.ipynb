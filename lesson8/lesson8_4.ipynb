{
 "cells": [
  {
   "cell_type": "markdown",
   "id": "92a3c64f",
   "metadata": {},
   "source": [
    "### function的參數,可以要求是一個function ###"
   ]
  },
  {
   "cell_type": "code",
   "execution_count": null,
   "id": "2f977a19",
   "metadata": {},
   "outputs": [],
   "source": [
    "numbers:list[int] = [1, 2, 3, 4, 5, 6, 7, 8, 9, 10]\n",
    "\n",
    "def is_odd(n):\n",
    "    if n % 2 == 1:\n",
    "        return True\n",
    "    else:\n",
    "        return False\n",
    "#取出奇數值\n",
    "list(filter(is_odd,numbers))\n"
   ]
  }
 ],
 "metadata": {
  "kernelspec": {
   "display_name": "base",
   "language": "python",
   "name": "python3"
  },
  "language_info": {
   "name": "python",
   "version": "3.12.7"
  }
 },
 "nbformat": 4,
 "nbformat_minor": 5
}
