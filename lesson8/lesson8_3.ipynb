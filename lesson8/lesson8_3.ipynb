{
 "cells": [
  {
   "cell_type": "markdown",
   "id": "bbfd5ad5",
   "metadata": {},
   "source": [
    "### 組合多筆資料組合成有順序的資料(list) ###"
   ]
  },
  {
   "cell_type": "code",
   "execution_count": 1,
   "id": "95681dad",
   "metadata": {},
   "outputs": [],
   "source": [
    "nums:list = [1, 2, 3, 4, 'a', 'b', 'c']\n"
   ]
  },
  {
   "cell_type": "markdown",
   "id": "48e1b152",
   "metadata": {},
   "source": [
    "### list內的元素,一般都是相同的資料類型 ###"
   ]
  },
  {
   "cell_type": "code",
   "execution_count": 2,
   "id": "9a33c82b",
   "metadata": {},
   "outputs": [
    {
     "data": {
      "text/plain": [
       "[10, 20, 30, 40, 50, 60, 70, 80, 90, 100]"
      ]
     },
     "execution_count": 2,
     "metadata": {},
     "output_type": "execute_result"
    }
   ],
   "source": [
    "nums:list[int] = [10, 20, 30, 40, 50, 60, 70, 80, 90, 100]\n",
    "nums"
   ]
  },
  {
   "cell_type": "code",
   "execution_count": 3,
   "id": "ecd73bc2",
   "metadata": {},
   "outputs": [
    {
     "data": {
      "text/plain": [
       "100"
      ]
     },
     "execution_count": 3,
     "metadata": {},
     "output_type": "execute_result"
    }
   ],
   "source": [
    "#取出元素\n",
    "nums[0]\n",
    "nums[1]\n",
    "nums[9]\n",
    "nums[-1]\n"
   ]
  },
  {
   "cell_type": "code",
   "execution_count": 4,
   "id": "cd7ea87c",
   "metadata": {},
   "outputs": [
    {
     "data": {
      "text/plain": [
       "[60, 70, 80, 90, 100]"
      ]
     },
     "execution_count": 4,
     "metadata": {},
     "output_type": "execute_result"
    }
   ],
   "source": [
    "#切割元素(slice)\n",
    "nums[0:5]\n",
    "nums[3:5]\n",
    "nums[:5] #前5個\n",
    "nums[-5:] #最後5個\n"
   ]
  },
  {
   "cell_type": "code",
   "execution_count": 5,
   "id": "1ec7cd80",
   "metadata": {},
   "outputs": [
    {
     "name": "stdout",
     "output_type": "stream",
     "text": [
      "10 20 30 40 50 60 70 80 90 100 "
     ]
    }
   ],
   "source": [
    "#list是串列資料,代表可以iterable\n",
    "for i in nums:\n",
    "    print(i,end=' ')"
   ]
  }
 ],
 "metadata": {
  "kernelspec": {
   "display_name": "base",
   "language": "python",
   "name": "python3"
  },
  "language_info": {
   "codemirror_mode": {
    "name": "ipython",
    "version": 3
   },
   "file_extension": ".py",
   "mimetype": "text/x-python",
   "name": "python",
   "nbconvert_exporter": "python",
   "pygments_lexer": "ipython3",
   "version": "3.12.7"
  }
 },
 "nbformat": 4,
 "nbformat_minor": 5
}
