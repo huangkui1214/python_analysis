{
 "cells": [
  {
   "cell_type": "markdown",
   "id": "20d7d755",
   "metadata": {},
   "source": [
    "### 如何呼叫function ###"
   ]
  },
  {
   "cell_type": "code",
   "execution_count": 2,
   "id": "b15a10b9",
   "metadata": {},
   "outputs": [],
   "source": [
    "def menu(wine:str, entree:str, dessert:str):\n",
    "    print(f\"前酒:{wine}\")\n",
    "    print(f\"主菜:{entree}\")\n",
    "    print(f\"甜點:{dessert}\")\n"
   ]
  },
  {
   "cell_type": "markdown",
   "id": "1567f5ed",
   "metadata": {},
   "source": [
    "### 引數值的呼叫(依據參數的順序) ###"
   ]
  },
  {
   "cell_type": "code",
   "execution_count": 3,
   "id": "36160df1",
   "metadata": {},
   "outputs": [
    {
     "name": "stdout",
     "output_type": "stream",
     "text": [
      "前酒:白酒\n",
      "主菜:雞排\n",
      "甜點:蛋糕\n"
     ]
    }
   ],
   "source": [
    "menu('白酒','雞排','蛋糕')"
   ]
  },
  {
   "cell_type": "markdown",
   "id": "ac850160",
   "metadata": {},
   "source": [
    "### 引數名稱的呼叫(可以不依照順序) ###"
   ]
  },
  {
   "cell_type": "code",
   "execution_count": null,
   "id": "ef2a94fe",
   "metadata": {},
   "outputs": [],
   "source": [
    "menu(wine='白酒',entree='雞排',dessert='蛋糕')\n",
    "menu(wine='白酒',dessert='蛋糕',entree='雞排')\n"
   ]
  }
 ],
 "metadata": {
  "kernelspec": {
   "display_name": "base",
   "language": "python",
   "name": "python3"
  },
  "language_info": {
   "codemirror_mode": {
    "name": "ipython",
    "version": 3
   },
   "file_extension": ".py",
   "mimetype": "text/x-python",
   "name": "python",
   "nbconvert_exporter": "python",
   "pygments_lexer": "ipython3",
   "version": "3.12.7"
  }
 },
 "nbformat": 4,
 "nbformat_minor": 5
}
