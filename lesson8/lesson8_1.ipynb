{
 "cells": [
  {
   "cell_type": "markdown",
   "id": "20d7d755",
   "metadata": {},
   "source": [
    "### 如何呼叫function ###"
   ]
  },
  {
   "cell_type": "code",
   "execution_count": 2,
   "id": "b15a10b9",
   "metadata": {},
   "outputs": [],
   "source": [
    "def menu(wine:str, entree:str, dessert:str):\n",
    "    print(f\"前酒:{wine}\")\n",
    "    print(f\"主菜:{entree}\")\n",
    "    print(f\"甜點:{dessert}\")\n"
   ]
  },
  {
   "cell_type": "markdown",
   "id": "1567f5ed",
   "metadata": {},
   "source": [
    "### 引數值的呼叫(依據參數的順序) ###"
   ]
  },
  {
   "cell_type": "code",
   "execution_count": 3,
   "id": "36160df1",
   "metadata": {},
   "outputs": [
    {
     "name": "stdout",
     "output_type": "stream",
     "text": [
      "前酒:白酒\n",
      "主菜:雞排\n",
      "甜點:蛋糕\n"
     ]
    }
   ],
   "source": [
    "menu('白酒','雞排','蛋糕')"
   ]
  },
  {
   "cell_type": "markdown",
   "id": "ac850160",
   "metadata": {},
   "source": [
    "### 引數名稱的呼叫(可以不依照順序) ###"
   ]
  },
  {
   "cell_type": "code",
   "execution_count": null,
   "id": "ef2a94fe",
   "metadata": {},
   "outputs": [],
   "source": [
    "menu(wine='白酒',entree='雞排',dessert='蛋糕')\n",
    "menu(wine='白酒',dessert='蛋糕',entree='雞排')\n"
   ]
  },
  {
   "cell_type": "markdown",
   "id": "98e3e62a",
   "metadata": {},
   "source": [
    "### 混合呼叫 ###\n",
    " - 前面要引數值呼叫\n",
    " - 後面要引數名稱的呼叫\n",
    " - 引數名稱呼叫後,就全部要使用引數名稱"
   ]
  },
  {
   "cell_type": "code",
   "execution_count": null,
   "id": "0803e77d",
   "metadata": {},
   "outputs": [],
   "source": [
    "menu('白酒',entree='雞排',dessert='蛋糕')\n",
    "menu('白酒',dessert='蛋糕',entree='雞排')\n"
   ]
  },
  {
   "cell_type": "markdown",
   "id": "67c56757",
   "metadata": {},
   "source": [
    "### 參數有預設值 ###\n",
    " - 有預設值的參數,一定要放在最後面\n",
    " - 呼叫的方式變多了"
   ]
  },
  {
   "cell_type": "code",
   "execution_count": 5,
   "id": "5ee9abdd",
   "metadata": {},
   "outputs": [],
   "source": [
    "def menu(wine:str, entree:str, dessert:str='奶昔'):\n",
    "    print(f\"前酒:{wine}\")\n",
    "    print(f\"主菜:{entree}\")\n",
    "    print(f\"甜點:{dessert}\")"
   ]
  },
  {
   "cell_type": "code",
   "execution_count": 4,
   "id": "08196651",
   "metadata": {},
   "outputs": [
    {
     "name": "stdout",
     "output_type": "stream",
     "text": [
      "前酒:白酒\n",
      "主菜:雞排\n",
      "甜點:蛋糕\n"
     ]
    }
   ],
   "source": [
    "menu('白酒',dessert='蛋糕',entree='雞排')"
   ]
  },
  {
   "cell_type": "code",
   "execution_count": 6,
   "id": "d41c3211",
   "metadata": {},
   "outputs": [
    {
     "name": "stdout",
     "output_type": "stream",
     "text": [
      "(1, 2, 3, 'a', 'b', 'c')\n"
     ]
    }
   ],
   "source": [
    "def print_args(*args):\n",
    "   print(args)\n",
    "\n",
    "print_args(1, 2, 3, 'a', 'b', 'c')\n",
    "\n"
   ]
  },
  {
   "cell_type": "code",
   "execution_count": 7,
   "id": "815d4520",
   "metadata": {},
   "outputs": [
    {
     "name": "stdout",
     "output_type": "stream",
     "text": [
      "{'one': 1, 'two': 2, 'three': 3, 'four': 4}\n"
     ]
    }
   ],
   "source": [
    "def print_kwargs(**kwargs):\n",
    "   print(kwargs)\n",
    "\n",
    "\n",
    "print_kwargs(one=1, two=2, three=3, four=4)\n"
   ]
  },
  {
   "cell_type": "code",
   "execution_count": 8,
   "id": "85beb993",
   "metadata": {},
   "outputs": [
    {
     "name": "stdout",
     "output_type": "stream",
     "text": [
      "(1, 2, 3, 'a', 'b', 'c')\n",
      "{'one': 1, 'two': 2, 'three': 3, 'four': 4}\n"
     ]
    }
   ],
   "source": [
    "def print_all(*args,**kwargs):\n",
    "    print(args)\n",
    "    print(kwargs)\n",
    "\n",
    "print_all(1, 2, 3, 'a', 'b', 'c',one=1,two=2,three=3, four=4)"
   ]
  },
  {
   "cell_type": "code",
   "execution_count": 9,
   "id": "fdbfa911",
   "metadata": {},
   "outputs": [
    {
     "name": "stdout",
     "output_type": "stream",
     "text": [
      "1 2 3 4 5\n",
      "\n",
      "1-2-3-4-5\n",
      "1-2-3-4-5.\n"
     ]
    }
   ],
   "source": [
    "print(1, 2, 3, 4, 5)\n",
    "print()\n",
    "print(1, 2, 3, 4, 5,sep='-')\n",
    "print(1, 2, 3, 4, 5,end='.\\n',sep='-')\n"
   ]
  }
 ],
 "metadata": {
  "kernelspec": {
   "display_name": "base",
   "language": "python",
   "name": "python3"
  },
  "language_info": {
   "codemirror_mode": {
    "name": "ipython",
    "version": 3
   },
   "file_extension": ".py",
   "mimetype": "text/x-python",
   "name": "python",
   "nbconvert_exporter": "python",
   "pygments_lexer": "ipython3",
   "version": "3.12.7"
  }
 },
 "nbformat": 4,
 "nbformat_minor": 5
}
