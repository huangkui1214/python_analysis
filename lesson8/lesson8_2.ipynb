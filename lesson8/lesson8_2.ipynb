{
 "cells": [
  {
   "cell_type": "markdown",
   "id": "80a19c9e",
   "metadata": {},
   "source": [
    "### python的資料結構 ###"
   ]
  },
  {
   "cell_type": "code",
   "execution_count": 1,
   "id": "6342ce93",
   "metadata": {},
   "outputs": [],
   "source": [
    "name:str = \"黃煜逵\"\n",
    "chinese:int = 96\n",
    "english:int = 85\n",
    "math:int = 95\n"
   ]
  },
  {
   "cell_type": "markdown",
   "id": "e2d0771b",
   "metadata": {},
   "source": [
    "### 一組有關係的資料(dictionary) ###"
   ]
  },
  {
   "cell_type": "code",
   "execution_count": 2,
   "id": "20cdef69",
   "metadata": {},
   "outputs": [
    {
     "data": {
      "text/plain": [
       "{'name': '黃煜逵', 'chinese': 96, 'english': 85, 'math': 95}"
      ]
     },
     "execution_count": 2,
     "metadata": {},
     "output_type": "execute_result"
    }
   ],
   "source": [
    "student:dict = {'name':\"黃煜逵\",\n",
    "                'chinese':96,\n",
    "                'english': 85,\n",
    "                'math': 95}\n",
    "\n",
    "student\n"
   ]
  },
  {
   "cell_type": "code",
   "execution_count": 3,
   "id": "4cdb6442",
   "metadata": {},
   "outputs": [
    {
     "data": {
      "text/plain": [
       "96"
      ]
     },
     "execution_count": 3,
     "metadata": {},
     "output_type": "execute_result"
    }
   ],
   "source": [
    "#取出值\n",
    "student['name']\n",
    "student['chinese']\n"
   ]
  },
  {
   "cell_type": "code",
   "execution_count": 4,
   "id": "eda83fcc",
   "metadata": {},
   "outputs": [
    {
     "data": {
      "text/plain": [
       "90"
      ]
     },
     "execution_count": 4,
     "metadata": {},
     "output_type": "execute_result"
    }
   ],
   "source": [
    "#改變值\n",
    "student['chinese'] = 90\n",
    "student['chinese']\n"
   ]
  },
  {
   "cell_type": "code",
   "execution_count": 5,
   "id": "bacb2c09",
   "metadata": {},
   "outputs": [
    {
     "data": {
      "text/plain": [
       "{'name': '黃煜逵', 'chinese': 90, 'english': 85, 'math': 95, 'history': 84}"
      ]
     },
     "execution_count": 5,
     "metadata": {},
     "output_type": "execute_result"
    }
   ],
   "source": [
    "#新增key\n",
    "student['history'] = 84\n",
    "student"
   ]
  }
 ],
 "metadata": {
  "kernelspec": {
   "display_name": "base",
   "language": "python",
   "name": "python3"
  },
  "language_info": {
   "codemirror_mode": {
    "name": "ipython",
    "version": 3
   },
   "file_extension": ".py",
   "mimetype": "text/x-python",
   "name": "python",
   "nbconvert_exporter": "python",
   "pygments_lexer": "ipython3",
   "version": "3.12.7"
  }
 },
 "nbformat": 4,
 "nbformat_minor": 5
}
