{
 "cells": [
  {
   "cell_type": "code",
   "execution_count": 2,
   "id": "63e7d4a3",
   "metadata": {},
   "outputs": [
    {
     "data": {
      "text/plain": [
       "'ChineseFont.ttf'"
      ]
     },
     "execution_count": 2,
     "metadata": {},
     "output_type": "execute_result"
    }
   ],
   "source": [
    "import wget\n",
    "\n",
    "wget.download(\"https://github.com/roberthsu2003/__2025_04_13_python_sunday__/blame/main/lesson15/ChineseFont.ttf\")"
   ]
  },
  {
   "cell_type": "code",
   "execution_count": 13,
   "id": "02afffb2",
   "metadata": {},
   "outputs": [
    {
     "data": {
      "text/plain": [
       "array([  7370,   8330,  13820,  19111,  24945,  31310,  31876,  36402,\n",
       "        42080,  50502,  52287,  53156,  60205,  62738,  68149,  73300,\n",
       "        79820,  81104,  85759,  89244,  95740, 104506, 113880, 116538,\n",
       "       124487, 126634, 129481, 138748, 139037, 141871])"
      ]
     },
     "execution_count": 13,
     "metadata": {},
     "output_type": "execute_result"
    }
   ],
   "source": [
    "#1家分店30天的營收\n",
    "\n",
    "import numpy as np\n",
    "np.random.seed(42)\n",
    "oneStore = np.random.randint(100, 10000, size=(30,))\n",
    "#建立累計營收\n",
    "oneStoreCum = oneStore.cumsum()\n",
    "oneStoreCum"
   ]
  },
  {
   "cell_type": "code",
   "execution_count": 1,
   "id": "36da8e4e",
   "metadata": {},
   "outputs": [
    {
     "ename": "RuntimeError",
     "evalue": "Can not load face (unknown file format; error code 0x2)",
     "output_type": "error",
     "traceback": [
      "\u001b[0;31m---------------------------------------------------------------------------\u001b[0m",
      "\u001b[0;31mRuntimeError\u001b[0m                              Traceback (most recent call last)",
      "Cell \u001b[0;32mIn[1], line 5\u001b[0m\n\u001b[1;32m      2\u001b[0m \u001b[38;5;28;01mimport\u001b[39;00m\u001b[38;5;250m \u001b[39m\u001b[38;5;21;01mmatplotlib\u001b[39;00m\u001b[38;5;250m \u001b[39m\u001b[38;5;28;01mas\u001b[39;00m\u001b[38;5;250m \u001b[39m\u001b[38;5;21;01mmpl\u001b[39;00m\n\u001b[1;32m      3\u001b[0m \u001b[38;5;28;01mfrom\u001b[39;00m\u001b[38;5;250m \u001b[39m\u001b[38;5;21;01mmatplotlib\u001b[39;00m\u001b[38;5;21;01m.\u001b[39;00m\u001b[38;5;21;01mfont_manager\u001b[39;00m\u001b[38;5;250m \u001b[39m\u001b[38;5;28;01mimport\u001b[39;00m fontManager\n\u001b[0;32m----> 5\u001b[0m \u001b[43mfontManager\u001b[49m\u001b[38;5;241;43m.\u001b[39;49m\u001b[43maddfont\u001b[49m\u001b[43m(\u001b[49m\u001b[38;5;124;43m'\u001b[39;49m\u001b[38;5;124;43mChineseFont.ttf\u001b[39;49m\u001b[38;5;124;43m'\u001b[39;49m\u001b[43m)\u001b[49m\n\u001b[1;32m      6\u001b[0m mpl\u001b[38;5;241m.\u001b[39mrc(\u001b[38;5;124m'\u001b[39m\u001b[38;5;124mfont\u001b[39m\u001b[38;5;124m'\u001b[39m,family\u001b[38;5;241m=\u001b[39m\u001b[38;5;124m'\u001b[39m\u001b[38;5;124mChineseFont\u001b[39m\u001b[38;5;124m'\u001b[39m)\n\u001b[1;32m      7\u001b[0m plt\u001b[38;5;241m.\u001b[39mplot(\u001b[38;5;28mrange\u001b[39m(\u001b[38;5;241m1\u001b[39m,\u001b[38;5;241m31\u001b[39m),oneStoreCum,color\u001b[38;5;241m=\u001b[39m\u001b[38;5;124m'\u001b[39m\u001b[38;5;124mred\u001b[39m\u001b[38;5;124m'\u001b[39m,linestyle\u001b[38;5;241m=\u001b[39m\u001b[38;5;124m'\u001b[39m\u001b[38;5;124m-\u001b[39m\u001b[38;5;124m'\u001b[39m,marker\u001b[38;5;241m=\u001b[39m\u001b[38;5;124m'\u001b[39m\u001b[38;5;124m'\u001b[39m)\n",
      "File \u001b[0;32m/opt/conda/envs/myenv1/lib/python3.10/site-packages/matplotlib/font_manager.py:1136\u001b[0m, in \u001b[0;36mFontManager.addfont\u001b[0;34m(self, path)\u001b[0m\n\u001b[1;32m   1134\u001b[0m     \u001b[38;5;28mself\u001b[39m\u001b[38;5;241m.\u001b[39mafmlist\u001b[38;5;241m.\u001b[39mappend(prop)\n\u001b[1;32m   1135\u001b[0m \u001b[38;5;28;01melse\u001b[39;00m:\n\u001b[0;32m-> 1136\u001b[0m     font \u001b[38;5;241m=\u001b[39m \u001b[43mft2font\u001b[49m\u001b[38;5;241;43m.\u001b[39;49m\u001b[43mFT2Font\u001b[49m\u001b[43m(\u001b[49m\u001b[43mpath\u001b[49m\u001b[43m)\u001b[49m\n\u001b[1;32m   1137\u001b[0m     prop \u001b[38;5;241m=\u001b[39m ttfFontProperty(font)\n\u001b[1;32m   1138\u001b[0m     \u001b[38;5;28mself\u001b[39m\u001b[38;5;241m.\u001b[39mttflist\u001b[38;5;241m.\u001b[39mappend(prop)\n",
      "\u001b[0;31mRuntimeError\u001b[0m: Can not load face (unknown file format; error code 0x2)"
     ]
    }
   ],
   "source": [
    "import matplotlib.pyplot as plt\n",
    "import matplotlib as mpl\n",
    "from matplotlib.font_manager import fontManager\n",
    "\n",
    "fontManager.addfont('ChineseFont.ttf')\n",
    "mpl.rc('font',family='ChineseFont')\n",
    "plt.plot(range(1,31),oneStoreCum,color='red',linestyle='-',marker='')\n",
    "plt.title(\"分店營收累計\")\n",
    "plt.xlabel(\"天\")\n",
    "plt.ylabel(\"累計營收\")\n",
    "plt.show()"
   ]
  }
 ],
 "metadata": {
  "kernelspec": {
   "display_name": "myenv1",
   "language": "python",
   "name": "python3"
  },
  "language_info": {
   "codemirror_mode": {
    "name": "ipython",
    "version": 3
   },
   "file_extension": ".py",
   "mimetype": "text/x-python",
   "name": "python",
   "nbconvert_exporter": "python",
   "pygments_lexer": "ipython3",
   "version": "3.10.13"
  }
 },
 "nbformat": 4,
 "nbformat_minor": 5
}
