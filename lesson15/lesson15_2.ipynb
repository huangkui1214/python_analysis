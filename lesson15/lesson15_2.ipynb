{
 "cells": [
  {
   "cell_type": "code",
   "execution_count": 7,
   "id": "63e7d4a3",
   "metadata": {},
   "outputs": [
    {
     "data": {
      "text/plain": [
       "'ChineseFont (1).ttf'"
      ]
     },
     "execution_count": 7,
     "metadata": {},
     "output_type": "execute_result"
    }
   ],
   "source": [
    "import wget\n",
    "\n",
    "wget.download(\"https://github.com/roberthsu2003/__2025_04_13_python_sunday__/blame/main/lesson15/ChineseFont.ttf\")"
   ]
  },
  {
   "cell_type": "code",
   "execution_count": 13,
   "id": "02afffb2",
   "metadata": {},
   "outputs": [
    {
     "data": {
      "text/plain": [
       "array([  7370,   8330,  13820,  19111,  24945,  31310,  31876,  36402,\n",
       "        42080,  50502,  52287,  53156,  60205,  62738,  68149,  73300,\n",
       "        79820,  81104,  85759,  89244,  95740, 104506, 113880, 116538,\n",
       "       124487, 126634, 129481, 138748, 139037, 141871])"
      ]
     },
     "execution_count": 13,
     "metadata": {},
     "output_type": "execute_result"
    }
   ],
   "source": [
    "#1家分店30天的營收\n",
    "\n",
    "import numpy as np\n",
    "np.random.seed(42)\n",
    "oneStore = np.random.randint(100, 10000, size=(30,))\n",
    "#建立累計營收\n",
    "oneStoreCum = oneStore.cumsum()\n",
    "oneStoreCum"
   ]
  },
  {
   "cell_type": "code",
   "execution_count": null,
   "id": "189dbc19",
   "metadata": {},
   "outputs": [],
   "source": []
  }
 ],
 "metadata": {
  "kernelspec": {
   "display_name": "myenv1",
   "language": "python",
   "name": "python3"
  },
  "language_info": {
   "codemirror_mode": {
    "name": "ipython",
    "version": 3
   },
   "file_extension": ".py",
   "mimetype": "text/x-python",
   "name": "python",
   "nbconvert_exporter": "python",
   "pygments_lexer": "ipython3",
   "version": "3.10.13"
  }
 },
 "nbformat": 4,
 "nbformat_minor": 5
}
