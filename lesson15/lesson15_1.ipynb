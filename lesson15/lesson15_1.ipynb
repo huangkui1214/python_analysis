{
 "cells": [
  {
   "cell_type": "markdown",
   "id": "b13ad0ed",
   "metadata": {},
   "source": [
    "https://www.perplexity.ai/search/0638400d-59de-4d83-8e38-0cb807daf590"
   ]
  },
  {
   "cell_type": "code",
   "execution_count": 1,
   "id": "efe11627",
   "metadata": {},
   "outputs": [],
   "source": [
    "import numpy as np\n",
    "from numpy import ndarray\n",
    "\n",
    "my_array:ndarray = np.arange(1000000)\n",
    "my_list = list(range(1000000))"
   ]
  },
  {
   "cell_type": "code",
   "execution_count": 2,
   "id": "efc8f951",
   "metadata": {},
   "outputs": [
    {
     "name": "stdout",
     "output_type": "stream",
     "text": [
      "CPU times: user 2 μs, sys: 0 ns, total: 2 μs\n",
      "Wall time: 5.01 μs\n"
     ]
    }
   ],
   "source": [
    "%time \n",
    "\n",
    "for _ in range(10):\n",
    "    #list的comprehension,list綜合表達式\n",
    "    my_lists = [x*2 for x in my_list]"
   ]
  },
  {
   "cell_type": "code",
   "execution_count": 3,
   "id": "50458315",
   "metadata": {},
   "outputs": [
    {
     "name": "stdout",
     "output_type": "stream",
     "text": [
      "CPU times: user 6.06 ms, sys: 1.26 ms, total: 7.32 ms\n",
      "Wall time: 6.99 ms\n"
     ]
    }
   ],
   "source": [
    "%time for _ in range(10): my_array2 = my_array * 2"
   ]
  },
  {
   "cell_type": "code",
   "execution_count": 4,
   "id": "85f58ed2",
   "metadata": {},
   "outputs": [
    {
     "data": {
      "text/plain": [
       "tuple"
      ]
     },
     "execution_count": 4,
     "metadata": {},
     "output_type": "execute_result"
    }
   ],
   "source": [
    "#tuple,1個元素的表示法\n",
    "(4, 5)\n",
    "type((4,))"
   ]
  },
  {
   "cell_type": "code",
   "execution_count": 5,
   "id": "64c9e797",
   "metadata": {},
   "outputs": [
    {
     "data": {
      "text/plain": [
       "(4,)"
      ]
     },
     "execution_count": 5,
     "metadata": {},
     "output_type": "execute_result"
    }
   ],
   "source": [
    "np.array(range(4)).shape"
   ]
  },
  {
   "cell_type": "markdown",
   "id": "3c34b07d",
   "metadata": {},
   "source": [
    "50個學生，每個學生有50個分數，每個分數50~100個學生，每個學生有50個分數，每個分數50~100"
   ]
  },
  {
   "cell_type": "code",
   "execution_count": 6,
   "id": "19d412a9",
   "metadata": {},
   "outputs": [
    {
     "data": {
      "text/plain": [
       "array([[ 88,  78,  64,  92,  57],\n",
       "       [ 70,  88,  68,  72,  60],\n",
       "       [ 60,  73,  85,  89,  73],\n",
       "       [ 52,  71,  51,  73,  93],\n",
       "       [ 79,  87,  51,  70,  82],\n",
       "       [ 61,  71,  93,  74,  98],\n",
       "       [ 76,  91,  77,  65,  64],\n",
       "       [ 96, 100,  93,  52,  86],\n",
       "       [100,  56,  70,  58,  88],\n",
       "       [ 67,  53,  74,  63,  99],\n",
       "       [ 58,  75,  51,  69,  77],\n",
       "       [ 96,  56,  93,  57,  96],\n",
       "       [ 84,  63,  66,  85,  99],\n",
       "       [ 89,  53,  51,  55,  91],\n",
       "       [ 53,  78,  67,  75,  93],\n",
       "       [ 83,  59,  85,  63,  80],\n",
       "       [ 97,  64,  57,  63,  72],\n",
       "       [ 89,  70,  65,  94,  67],\n",
       "       [ 96,  73,  75,  74,  94],\n",
       "       [ 90,  78,  64,  94,  50],\n",
       "       [ 74,  56,  58,  73,  50],\n",
       "       [ 93,  57,  73,  60, 100],\n",
       "       [ 66,  57,  84,  84,  82],\n",
       "       [ 54,  91,  88,  90,  77],\n",
       "       [ 56,  58,  57,  61,  83],\n",
       "       [ 82,  97,  72,  73,  86],\n",
       "       [ 84,  93,  89,  71,  76],\n",
       "       [ 84,  50,  84,  86,  96],\n",
       "       [ 63,  52,  50,  54,  75],\n",
       "       [ 63,  88,  76,  58,  64],\n",
       "       [ 64,  75,  91,  62, 100],\n",
       "       [ 81,  88,  98,  81,  53],\n",
       "       [ 79,  86,  72,  88,  94],\n",
       "       [ 64,  92,  78,  85,  62],\n",
       "       [ 81,  56, 100,  71,  77],\n",
       "       [ 51,  91,  94,  55,  77],\n",
       "       [ 77,  93,  93,  69,  79],\n",
       "       [ 60,  77,  74,  88,  82],\n",
       "       [ 50,  76,  62,  90,  52],\n",
       "       [ 88,  55,  57,  76,  58],\n",
       "       [ 86,  82, 100,  91,  93],\n",
       "       [ 73,  64,  81,  81,  73],\n",
       "       [ 90,  98,  98,  61,  88],\n",
       "       [ 51,  52,  98,  86,  98],\n",
       "       [ 66,  98,  51,  51,  77],\n",
       "       [ 72,  86,  81,  82,  50],\n",
       "       [ 68,  51,  93,  75,  81],\n",
       "       [ 55,  81,  53,  60,  66],\n",
       "       [ 87,  73,  54,  83,  55],\n",
       "       [ 71,  60,  97,  65,  82]])"
      ]
     },
     "execution_count": 6,
     "metadata": {},
     "output_type": "execute_result"
    }
   ],
   "source": [
    "np.random.seed(42)\n",
    "scores = np.random.randint(50, 101,(50,5))\n",
    "scores"
   ]
  },
  {
   "cell_type": "code",
   "execution_count": 7,
   "id": "6b5555b9",
   "metadata": {},
   "outputs": [
    {
     "data": {
      "text/plain": [
       "dtype('int64')"
      ]
     },
     "execution_count": 7,
     "metadata": {},
     "output_type": "execute_result"
    }
   ],
   "source": [
    "#ndarray常用的實體屬性\n",
    "scores.ndim\n",
    "scores.shape\n",
    "scores.size\n",
    "scores.dtype"
   ]
  },
  {
   "cell_type": "markdown",
   "id": "7cd8b0fd",
   "metadata": {},
   "source": [
    "基本索引和分割\n",
    " - ndarray[index]\n",
    " - ndayyay[start:end:step]"
   ]
  },
  {
   "cell_type": "code",
   "execution_count": 8,
   "id": "2075df58",
   "metadata": {},
   "outputs": [
    {
     "data": {
      "text/plain": [
       "np.int64(57)"
      ]
     },
     "execution_count": 8,
     "metadata": {},
     "output_type": "execute_result"
    }
   ],
   "source": [
    "#2維\n",
    "scores[0][4] #類似list的操作\n",
    "scores[0, 4] #ndarrya的slice的操作法"
   ]
  },
  {
   "cell_type": "code",
   "execution_count": 9,
   "id": "244dde21",
   "metadata": {},
   "outputs": [
    {
     "data": {
      "text/plain": [
       "array([[88, 78, 64, 92, 57]])"
      ]
     },
     "execution_count": 9,
     "metadata": {},
     "output_type": "execute_result"
    }
   ],
   "source": [
    "## 取得第1位學生的分數\n",
    "scores[0] #shape(5,)\n",
    "scores[0,:] #shape(5,0)\n",
    "scores[0:1,:] #shape(1,5)"
   ]
  },
  {
   "cell_type": "code",
   "execution_count": 10,
   "id": "48c2adea",
   "metadata": {},
   "outputs": [
    {
     "data": {
      "text/plain": [
       "array([[88, 78, 64, 92, 57],\n",
       "       [70, 88, 68, 72, 60]])"
      ]
     },
     "execution_count": 10,
     "metadata": {},
     "output_type": "execute_result"
    }
   ],
   "source": [
    "## 取得第1,2位學生的分數\n",
    "scores[:2]\n",
    "scores[:2,:]\n",
    "scores[(0,1),:]"
   ]
  },
  {
   "cell_type": "code",
   "execution_count": 11,
   "id": "1ab094bd",
   "metadata": {},
   "outputs": [
    {
     "data": {
      "text/plain": [
       "array([[88, 78, 64, 92, 57],\n",
       "       [70, 88, 68, 72, 60],\n",
       "       [79, 87, 51, 70, 82]])"
      ]
     },
     "execution_count": 11,
     "metadata": {},
     "output_type": "execute_result"
    }
   ],
   "source": [
    "## 取得第1,2,5位學生的分數\n",
    "scores[(0,1,4),:]"
   ]
  },
  {
   "cell_type": "code",
   "execution_count": 12,
   "id": "653553ce",
   "metadata": {},
   "outputs": [
    {
     "data": {
      "text/plain": [
       "array([[ 88],\n",
       "       [ 70],\n",
       "       [ 60],\n",
       "       [ 52],\n",
       "       [ 79],\n",
       "       [ 61],\n",
       "       [ 76],\n",
       "       [ 96],\n",
       "       [100],\n",
       "       [ 67],\n",
       "       [ 58],\n",
       "       [ 96],\n",
       "       [ 84],\n",
       "       [ 89],\n",
       "       [ 53],\n",
       "       [ 83],\n",
       "       [ 97],\n",
       "       [ 89],\n",
       "       [ 96],\n",
       "       [ 90],\n",
       "       [ 74],\n",
       "       [ 93],\n",
       "       [ 66],\n",
       "       [ 54],\n",
       "       [ 56],\n",
       "       [ 82],\n",
       "       [ 84],\n",
       "       [ 84],\n",
       "       [ 63],\n",
       "       [ 63],\n",
       "       [ 64],\n",
       "       [ 81],\n",
       "       [ 79],\n",
       "       [ 64],\n",
       "       [ 81],\n",
       "       [ 51],\n",
       "       [ 77],\n",
       "       [ 60],\n",
       "       [ 50],\n",
       "       [ 88],\n",
       "       [ 86],\n",
       "       [ 73],\n",
       "       [ 90],\n",
       "       [ 51],\n",
       "       [ 66],\n",
       "       [ 72],\n",
       "       [ 68],\n",
       "       [ 55],\n",
       "       [ 87],\n",
       "       [ 71]])"
      ]
     },
     "execution_count": 12,
     "metadata": {},
     "output_type": "execute_result"
    }
   ],
   "source": [
    "## 取得第1科的所有分數\n",
    "scores[:,0] #(50,)\n",
    "scores[:,0:1] #(1,50)"
   ]
  },
  {
   "cell_type": "code",
   "execution_count": 13,
   "id": "57a9fc60",
   "metadata": {},
   "outputs": [
    {
     "data": {
      "text/plain": [
       "array([[ 88,  78],\n",
       "       [ 70,  88],\n",
       "       [ 60,  73],\n",
       "       [ 52,  71],\n",
       "       [ 79,  87],\n",
       "       [ 61,  71],\n",
       "       [ 76,  91],\n",
       "       [ 96, 100],\n",
       "       [100,  56],\n",
       "       [ 67,  53],\n",
       "       [ 58,  75],\n",
       "       [ 96,  56],\n",
       "       [ 84,  63],\n",
       "       [ 89,  53],\n",
       "       [ 53,  78],\n",
       "       [ 83,  59],\n",
       "       [ 97,  64],\n",
       "       [ 89,  70],\n",
       "       [ 96,  73],\n",
       "       [ 90,  78],\n",
       "       [ 74,  56],\n",
       "       [ 93,  57],\n",
       "       [ 66,  57],\n",
       "       [ 54,  91],\n",
       "       [ 56,  58],\n",
       "       [ 82,  97],\n",
       "       [ 84,  93],\n",
       "       [ 84,  50],\n",
       "       [ 63,  52],\n",
       "       [ 63,  88],\n",
       "       [ 64,  75],\n",
       "       [ 81,  88],\n",
       "       [ 79,  86],\n",
       "       [ 64,  92],\n",
       "       [ 81,  56],\n",
       "       [ 51,  91],\n",
       "       [ 77,  93],\n",
       "       [ 60,  77],\n",
       "       [ 50,  76],\n",
       "       [ 88,  55],\n",
       "       [ 86,  82],\n",
       "       [ 73,  64],\n",
       "       [ 90,  98],\n",
       "       [ 51,  52],\n",
       "       [ 66,  98],\n",
       "       [ 72,  86],\n",
       "       [ 68,  51],\n",
       "       [ 55,  81],\n",
       "       [ 87,  73],\n",
       "       [ 71,  60]])"
      ]
     },
     "execution_count": 13,
     "metadata": {},
     "output_type": "execute_result"
    }
   ],
   "source": [
    "## 取得第1,2科的所有分數\n",
    "scores[:,:2] #(50,2)"
   ]
  },
  {
   "cell_type": "code",
   "execution_count": 14,
   "id": "1f6f0d46",
   "metadata": {},
   "outputs": [
    {
     "data": {
      "text/plain": [
       "array([[ 64,  92,  57],\n",
       "       [ 68,  72,  60],\n",
       "       [ 85,  89,  73],\n",
       "       [ 51,  73,  93],\n",
       "       [ 51,  70,  82],\n",
       "       [ 93,  74,  98],\n",
       "       [ 77,  65,  64],\n",
       "       [ 93,  52,  86],\n",
       "       [ 70,  58,  88],\n",
       "       [ 74,  63,  99],\n",
       "       [ 51,  69,  77],\n",
       "       [ 93,  57,  96],\n",
       "       [ 66,  85,  99],\n",
       "       [ 51,  55,  91],\n",
       "       [ 67,  75,  93],\n",
       "       [ 85,  63,  80],\n",
       "       [ 57,  63,  72],\n",
       "       [ 65,  94,  67],\n",
       "       [ 75,  74,  94],\n",
       "       [ 64,  94,  50],\n",
       "       [ 58,  73,  50],\n",
       "       [ 73,  60, 100],\n",
       "       [ 84,  84,  82],\n",
       "       [ 88,  90,  77],\n",
       "       [ 57,  61,  83],\n",
       "       [ 72,  73,  86],\n",
       "       [ 89,  71,  76],\n",
       "       [ 84,  86,  96],\n",
       "       [ 50,  54,  75],\n",
       "       [ 76,  58,  64]])"
      ]
     },
     "execution_count": 14,
     "metadata": {},
     "output_type": "execute_result"
    }
   ],
   "source": [
    "## 取得前30位學生的最後3科分數\n",
    "scores[:30,-3:] #(30,3)"
   ]
  },
  {
   "cell_type": "markdown",
   "id": "bb5e0d50",
   "metadata": {},
   "source": [
    "ndarray的統計的實體方法\n",
    " - sum()\n",
    " - min()\n",
    " - max()\n",
    " - mean()"
   ]
  },
  {
   "cell_type": "code",
   "execution_count": 15,
   "id": "2ee197e3",
   "metadata": {},
   "outputs": [
    {
     "data": {
      "text/plain": [
       "array([379, 358, 380, 340, 369, 397, 373, 427, 372, 356, 330, 398, 397,\n",
       "       339, 366, 370, 353, 385, 412, 376, 311, 383, 373, 400, 315, 410,\n",
       "       413, 400, 294, 349, 392, 401, 419, 381, 385, 368, 411, 381, 330,\n",
       "       334, 452, 372, 435, 385, 343, 371, 368, 315, 352, 375])"
      ]
     },
     "execution_count": 15,
     "metadata": {},
     "output_type": "execute_result"
    }
   ],
   "source": [
    "#每個學生的總分\n",
    "scores.sum(axis=1) #ndarray實體方法\n",
    "\n",
    "np.sum(scores,axis=1) #numpy的global的function"
   ]
  },
  {
   "cell_type": "code",
   "execution_count": 16,
   "id": "ba9f42d2",
   "metadata": {},
   "outputs": [
    {
     "data": {
      "text/plain": [
       "array([75.8, 71.6, 76. , 68. , 73.8, 79.4, 74.6, 85.4, 74.4, 71.2, 66. ,\n",
       "       79.6, 79.4, 67.8, 73.2, 74. , 70.6, 77. , 82.4, 75.2, 62.2, 76.6,\n",
       "       74.6, 80. , 63. , 82. , 82.6, 80. , 58.8, 69.8])"
      ]
     },
     "execution_count": 16,
     "metadata": {},
     "output_type": "execute_result"
    }
   ],
   "source": [
    "#前30位學生的平均\n",
    "scores[:30].mean(axis=1)\n",
    "np.mean(scores[:30],axis=1)"
   ]
  },
  {
   "cell_type": "code",
   "execution_count": 17,
   "id": "31d46e04",
   "metadata": {},
   "outputs": [
    {
     "data": {
      "text/plain": [
       "np.int64(50)"
      ]
     },
     "execution_count": 17,
     "metadata": {},
     "output_type": "execute_result"
    }
   ],
   "source": [
    "#第1科最高的分數和最低分數\n",
    "scores[:,0].max(axis=0)\n",
    "scores[:,0].min(axis=0)"
   ]
  }
 ],
 "metadata": {
  "kernelspec": {
   "display_name": "myenv1",
   "language": "python",
   "name": "python3"
  },
  "language_info": {
   "codemirror_mode": {
    "name": "ipython",
    "version": 3
   },
   "file_extension": ".py",
   "mimetype": "text/x-python",
   "name": "python",
   "nbconvert_exporter": "python",
   "pygments_lexer": "ipython3",
   "version": "3.10.16"
  }
 },
 "nbformat": 4,
 "nbformat_minor": 5
}
