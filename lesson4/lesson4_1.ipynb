{
 "cells": [
  {
   "cell_type": "code",
   "execution_count": 1,
   "id": "88f4d38f",
   "metadata": {},
   "outputs": [
    {
     "name": "stdout",
     "output_type": "stream",
     "text": [
      "對邊: 2.5\n",
      "斜邊: 5.0\n",
      "徑度: 0.5235987755982989\n",
      "角度: 30.0\n"
     ]
    }
   ],
   "source": [
    "import math\n",
    "\n",
    "side = float(input(\"請輸入對邊\"))\n",
    "another_side = float(input(\"請輸入斜邊\"))\n",
    "radians = math.asin(side / another_side)\n",
    "degree = math.degrees(radians)\n",
    "\n",
    "print(\"對邊:\",side)\n",
    "print(\"斜邊:\",another_side)\n",
    "print(\"徑度:\", radians)\n",
    "print(\"角度:\", round(degree,ndigits=2))"
   ]
  },
  {
   "cell_type": "markdown",
   "id": "8d0707d7",
   "metadata": {},
   "source": [
    "## tuple"
   ]
  },
  {
   "cell_type": "code",
   "execution_count": 2,
   "id": "2524f4fd",
   "metadata": {},
   "outputs": [
    {
     "data": {
      "text/plain": [
       "(56, 68, 79)"
      ]
     },
     "execution_count": 2,
     "metadata": {},
     "output_type": "execute_result"
    }
   ],
   "source": [
    "56,68,79"
   ]
  },
  {
   "cell_type": "markdown",
   "id": "3e3ac6e7",
   "metadata": {},
   "source": [
    "### 大學統計的標準差"
   ]
  },
  {
   "cell_type": "code",
   "execution_count": 7,
   "id": "de6b0f26",
   "metadata": {},
   "outputs": [
    {
     "name": "stdout",
     "output_type": "stream",
     "text": [
      "66.0 78.0 54.0\n",
      "平均:67.67\n",
      "標準差:11.50\n"
     ]
    }
   ],
   "source": [
    "import statistics\n",
    "\n",
    "n1 = float(input(\"請輸入第1個數:\"))\n",
    "n2 = float(input(\"請輸入第2個數:\"))\n",
    "n3 = float(input(\"請輸入第3個數:\"))\n",
    "average = statistics.mean((56,68,79))\n",
    "std = statistics.stdev((56,68,79))\n",
    "print(n1,n2,n3)\n",
    "print(f\"平均:{average:.2f}\")\n",
    "print(f\"標準差:{std:.2f}\")"
   ]
  }
 ],
 "metadata": {
  "kernelspec": {
   "display_name": "base",
   "language": "python",
   "name": "python3"
  },
  "language_info": {
   "codemirror_mode": {
    "name": "ipython",
    "version": 3
   },
   "file_extension": ".py",
   "mimetype": "text/x-python",
   "name": "python",
   "nbconvert_exporter": "python",
   "pygments_lexer": "ipython3",
   "version": "3.12.7"
  }
 },
 "nbformat": 4,
 "nbformat_minor": 5
}
