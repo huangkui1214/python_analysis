{
 "cells": [
  {
   "cell_type": "markdown",
   "id": "89495748",
   "metadata": {},
   "source": [
    "if->流程控制"
   ]
  },
  {
   "cell_type": "markdown",
   "id": "958f4e88",
   "metadata": {},
   "source": [
    "## 單項選擇 ##"
   ]
  },
  {
   "cell_type": "code",
   "execution_count": 1,
   "id": "b3ca1f4c",
   "metadata": {},
   "outputs": [
    {
     "name": "stdout",
     "output_type": "stream",
     "text": [
      "這是單項選擇\n",
      "這是True的程式區塊\n"
     ]
    }
   ],
   "source": [
    "if True:\n",
    "    print(\"這是單項選擇\")\n",
    "    print(\"這是True的程式區塊\")"
   ]
  },
  {
   "cell_type": "markdown",
   "id": "706a786b",
   "metadata": {},
   "source": [
    "## 雙向選擇 ##"
   ]
  },
  {
   "cell_type": "code",
   "execution_count": 2,
   "id": "fd37bb65",
   "metadata": {},
   "outputs": [
    {
     "name": "stdout",
     "output_type": "stream",
     "text": [
      "這是雙項選擇\n",
      "這是False的程式區塊\n"
     ]
    }
   ],
   "source": [
    "if False:\n",
    "    print(\"這是雙項選擇\")\n",
    "    print(\"這是True的程式區塊\")\n",
    "else:\n",
    "    print(\"這是雙項選擇\")\n",
    "    print(\"這是False的程式區塊\")"
   ]
  }
 ],
 "metadata": {
  "kernelspec": {
   "display_name": "base",
   "language": "python",
   "name": "python3"
  },
  "language_info": {
   "codemirror_mode": {
    "name": "ipython",
    "version": 3
   },
   "file_extension": ".py",
   "mimetype": "text/x-python",
   "name": "python",
   "nbconvert_exporter": "python",
   "pygments_lexer": "ipython3",
   "version": "3.12.7"
  }
 },
 "nbformat": 4,
 "nbformat_minor": 5
}
