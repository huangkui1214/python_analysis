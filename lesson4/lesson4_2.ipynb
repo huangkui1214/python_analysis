{
 "cells": [
  {
   "cell_type": "markdown",
   "id": "89495748",
   "metadata": {},
   "source": [
    "if->流程控制"
   ]
  },
  {
   "cell_type": "markdown",
   "id": "958f4e88",
   "metadata": {},
   "source": [
    "## 單項選擇 ##"
   ]
  },
  {
   "cell_type": "code",
   "execution_count": 1,
   "id": "b3ca1f4c",
   "metadata": {},
   "outputs": [
    {
     "name": "stdout",
     "output_type": "stream",
     "text": [
      "這是單項選擇\n",
      "這是True的程式區塊\n"
     ]
    }
   ],
   "source": [
    "if True:\n",
    "    print(\"這是單項選擇\")\n",
    "    print(\"這是True的程式區塊\")"
   ]
  },
  {
   "cell_type": "markdown",
   "id": "706a786b",
   "metadata": {},
   "source": [
    "## 雙向選擇 ##"
   ]
  },
  {
   "cell_type": "code",
   "execution_count": 2,
   "id": "fd37bb65",
   "metadata": {},
   "outputs": [
    {
     "name": "stdout",
     "output_type": "stream",
     "text": [
      "這是雙項選擇\n",
      "這是False的程式區塊\n"
     ]
    }
   ],
   "source": [
    "if False:\n",
    "    print(\"這是雙項選擇\")\n",
    "    print(\"這是True的程式區塊\")\n",
    "else:\n",
    "    print(\"這是雙項選擇\")\n",
    "    print(\"這是False的程式區塊\")"
   ]
  },
  {
   "cell_type": "code",
   "execution_count": 3,
   "id": "3ff26809",
   "metadata": {},
   "outputs": [
    {
     "data": {
      "text/plain": [
       "True"
      ]
     },
     "execution_count": 3,
     "metadata": {},
     "output_type": "execute_result"
    }
   ],
   "source": [
    "5 > 3\n",
    "20 == 20"
   ]
  },
  {
   "cell_type": "code",
   "execution_count": 4,
   "id": "2b853c2d",
   "metadata": {},
   "outputs": [
    {
     "name": "stdout",
     "output_type": "stream",
     "text": [
      "成年\n"
     ]
    }
   ],
   "source": [
    "age = int(input(\"請輸入年齡age:\"))\n",
    "if age < 18:\n",
    "    print(\"未成年\")\n",
    "else:\n",
    "    print(\"成年\")"
   ]
  },
  {
   "cell_type": "markdown",
   "id": "da264f01",
   "metadata": {},
   "source": [
    "-學生總分300分\n",
    "-有些學生可以加分5%\n",
    "-如果分數超過300,則以300分為準"
   ]
  },
  {
   "cell_type": "code",
   "execution_count": 6,
   "id": "1575d65f",
   "metadata": {},
   "outputs": [
    {
     "name": "stdout",
     "output_type": "stream",
     "text": [
      "學生分數是:300\n"
     ]
    }
   ],
   "source": [
    "scores = int(input(\"請輸入學生分數(最高分為300分):\"))\n",
    "is_add = input(\"學生是否符合加分條件?(y,n)\")\n",
    "if (is_add == \"y\"):\n",
    "    scores *= 1.05\n",
    "    if scores > 300:\n",
    "        scores = 300\n",
    "    \n",
    "print(f\"學生分數是:{round(scores)}\")"
   ]
  },
  {
   "cell_type": "markdown",
   "id": "777e1102",
   "metadata": {},
   "source": [
    "處理raise Exception ** try: except:處理錯誤"
   ]
  },
  {
   "cell_type": "code",
   "execution_count": 7,
   "id": "a6826deb",
   "metadata": {},
   "outputs": [
    {
     "name": "stdout",
     "output_type": "stream",
     "text": [
      "發生錯誤\n"
     ]
    }
   ],
   "source": [
    "try:\n",
    "    25 / 0\n",
    "except:\n",
    "    print(\"發生錯誤\")\n"
   ]
  },
  {
   "cell_type": "code",
   "execution_count": 9,
   "id": "5425fc63",
   "metadata": {},
   "outputs": [
    {
     "name": "stdout",
     "output_type": "stream",
     "text": [
      "12.5\n",
      "程式結束\n"
     ]
    }
   ],
   "source": [
    "divitionBy = 2\n",
    "try:\n",
    "    print(25 / divitionBy)\n",
    "except:\n",
    "    print(\"發生錯誤\")\n",
    "\n",
    "print(\"程式結束\")"
   ]
  }
 ],
 "metadata": {
  "kernelspec": {
   "display_name": "base",
   "language": "python",
   "name": "python3"
  },
  "language_info": {
   "codemirror_mode": {
    "name": "ipython",
    "version": 3
   },
   "file_extension": ".py",
   "mimetype": "text/x-python",
   "name": "python",
   "nbconvert_exporter": "python",
   "pygments_lexer": "ipython3",
   "version": "3.12.7"
  }
 },
 "nbformat": 4,
 "nbformat_minor": 5
}
